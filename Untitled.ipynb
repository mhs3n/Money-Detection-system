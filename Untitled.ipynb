{
 "cells": [
  {
   "cell_type": "code",
   "execution_count": 45,
   "id": "b247ddf8-b0e4-4023-ac7b-3a7391bef28a",
   "metadata": {},
   "outputs": [],
   "source": [
    "text='10 dinars'"
   ]
  },
  {
   "cell_type": "code",
   "execution_count": 52,
   "id": "29f53689-6061-473b-8199-c56300aed9ae",
   "metadata": {},
   "outputs": [],
   "source": [
    "def say(text):\n",
    "    \n",
    "    import pyttsx3\n",
    "    engine = pyttsx3.init()\n",
    "    engine.setProperty('rate', 150)\n",
    "    v=e.getProperty('voices')\n",
    "    \n",
    "    e.setProperty('voice',v[11].id )\n",
    "    \n",
    "    engine.say(text)\n",
    "    engine.runAndWait()\n",
    "    return "
   ]
  },
  {
   "cell_type": "code",
   "execution_count": 54,
   "id": "d1997058-b632-4afb-b902-8d6dfb0ac69d",
   "metadata": {},
   "outputs": [
    {
     "data": {
      "text/plain": [
       "0"
      ]
     },
     "execution_count": 54,
     "metadata": {},
     "output_type": "execute_result"
    }
   ],
   "source": [
    "say(text)"
   ]
  },
  {
   "cell_type": "code",
   "execution_count": 34,
   "id": "7054b97a-fd0e-4659-9434-ced76cd3b97c",
   "metadata": {},
   "outputs": [
    {
     "name": "stdout",
     "output_type": "stream",
     "text": [
      "<Voice id=afrikaans\n",
      "          name=afrikaans\n",
      "          languages=[b'\\x05af']\n",
      "          gender=male\n",
      "          age=None> afrikaans\n",
      "1\n",
      "<Voice id=aragonese\n",
      "          name=aragonese\n",
      "          languages=[b'\\x05an']\n",
      "          gender=male\n",
      "          age=None> aragonese\n",
      "2\n",
      "<Voice id=bulgarian\n",
      "          name=bulgarian\n",
      "          languages=[b'\\x05bg']\n",
      "          gender=None\n",
      "          age=None> bulgarian\n",
      "3\n",
      "<Voice id=bengali\n",
      "          name=bengali\n",
      "          languages=[b'\\x05bn']\n",
      "          gender=male\n",
      "          age=None> bengali\n",
      "4\n",
      "<Voice id=bosnian\n",
      "          name=bosnian\n",
      "          languages=[b'\\x05bs']\n",
      "          gender=male\n",
      "          age=None> bosnian\n",
      "5\n",
      "<Voice id=catalan\n",
      "          name=catalan\n",
      "          languages=[b'\\x05ca']\n",
      "          gender=male\n",
      "          age=None> catalan\n",
      "6\n",
      "<Voice id=czech\n",
      "          name=czech\n",
      "          languages=[b'\\x05cs']\n",
      "          gender=male\n",
      "          age=None> czech\n",
      "7\n",
      "<Voice id=welsh\n",
      "          name=welsh\n",
      "          languages=[b'\\x05cy']\n",
      "          gender=male\n",
      "          age=None> welsh\n",
      "8\n",
      "<Voice id=danish\n",
      "          name=danish\n",
      "          languages=[b'\\x05da']\n",
      "          gender=male\n",
      "          age=None> danish\n",
      "9\n",
      "<Voice id=german\n",
      "          name=german\n",
      "          languages=[b'\\x05de']\n",
      "          gender=male\n",
      "          age=None> german\n",
      "10\n",
      "<Voice id=greek\n",
      "          name=greek\n",
      "          languages=[b'\\x05el']\n",
      "          gender=male\n",
      "          age=None> greek\n",
      "11\n",
      "<Voice id=default\n",
      "          name=default\n",
      "          languages=[b'\\x05en']\n",
      "          gender=male\n",
      "          age=None> default\n",
      "12\n",
      "<Voice id=english\n",
      "          name=english\n",
      "          languages=[b'\\x02en-gb']\n",
      "          gender=male\n",
      "          age=None> english\n",
      "13\n",
      "<Voice id=en-scottish\n",
      "          name=en-scottish\n",
      "          languages=[b'\\x05en-sc']\n",
      "          gender=male\n",
      "          age=None> en-scottish\n",
      "14\n",
      "<Voice id=english-north\n",
      "          name=english-north\n",
      "          languages=[b'\\x05en-uk-north']\n",
      "          gender=male\n",
      "          age=None> english-north\n",
      "15\n",
      "<Voice id=english_rp\n",
      "          name=english_rp\n",
      "          languages=[b'\\x05en-uk-rp']\n",
      "          gender=male\n",
      "          age=None> english_rp\n",
      "16\n",
      "<Voice id=english_wmids\n",
      "          name=english_wmids\n",
      "          languages=[b'\\x05en-uk-wmids']\n",
      "          gender=male\n",
      "          age=None> english_wmids\n",
      "17\n",
      "<Voice id=english-us\n",
      "          name=english-us\n",
      "          languages=[b'\\x02en-us']\n",
      "          gender=male\n",
      "          age=None> english-us\n",
      "18\n",
      "<Voice id=en-westindies\n",
      "          name=en-westindies\n",
      "          languages=[b'\\x05en-wi']\n",
      "          gender=male\n",
      "          age=None> en-westindies\n",
      "19\n",
      "<Voice id=esperanto\n",
      "          name=esperanto\n",
      "          languages=[b'\\x05eo']\n",
      "          gender=male\n",
      "          age=None> esperanto\n",
      "20\n",
      "<Voice id=spanish\n",
      "          name=spanish\n",
      "          languages=[b'\\x05es']\n",
      "          gender=male\n",
      "          age=None> spanish\n",
      "21\n",
      "<Voice id=spanish-latin-am\n",
      "          name=spanish-latin-am\n",
      "          languages=[b'\\x05es-la']\n",
      "          gender=male\n",
      "          age=None> spanish-latin-am\n",
      "22\n",
      "<Voice id=estonian\n",
      "          name=estonian\n",
      "          languages=[b'\\x05et']\n",
      "          gender=None\n",
      "          age=None> estonian\n",
      "23\n",
      "<Voice id=basque-test\n",
      "          name=basque-test\n",
      "          languages=[b'\\x05eu']\n",
      "          gender=None\n",
      "          age=None> basque-test\n",
      "24\n",
      "<Voice id=Persian+English-UK\n",
      "          name=Persian+English-UK\n",
      "          languages=[b'\\x05fa']\n",
      "          gender=None\n",
      "          age=None> Persian+English-UK\n"
     ]
    },
    {
     "name": "stderr",
     "output_type": "stream",
     "text": [
      "aplay: pcm_write:2127: write error: Interrupted system call\n"
     ]
    },
    {
     "name": "stdout",
     "output_type": "stream",
     "text": [
      "25\n",
      "<Voice id=Persian+English-US\n",
      "          name=Persian+English-US\n",
      "          languages=[b'\\x05fa']\n",
      "          gender=None\n",
      "          age=None> Persian+English-US\n",
      "26\n",
      "<Voice id=persian-pinglish\n",
      "          name=persian-pinglish\n",
      "          languages=[b'\\x05fa-pin']\n",
      "          gender=None\n",
      "          age=None> persian-pinglish\n",
      "27\n",
      "<Voice id=finnish\n",
      "          name=finnish\n",
      "          languages=[b'\\x05fi']\n",
      "          gender=male\n",
      "          age=None> finnish\n",
      "28\n",
      "<Voice id=french-Belgium\n",
      "          name=french-Belgium\n",
      "          languages=[b'\\x05fr-be']\n",
      "          gender=male\n",
      "          age=None> french-Belgium\n",
      "29\n",
      "<Voice id=french\n",
      "          name=french\n",
      "          languages=[b'\\x05fr-fr']\n",
      "          gender=male\n",
      "          age=None> french\n",
      "30\n",
      "<Voice id=irish-gaeilge\n",
      "          name=irish-gaeilge\n",
      "          languages=[b'\\x05ga']\n",
      "          gender=None\n",
      "          age=None> irish-gaeilge\n",
      "31\n",
      "<Voice id=greek-ancient\n",
      "          name=greek-ancient\n",
      "          languages=[b'\\x05grc']\n",
      "          gender=male\n",
      "          age=None> greek-ancient\n",
      "32\n",
      "<Voice id=gujarati-test\n",
      "          name=gujarati-test\n",
      "          languages=[b'\\x05gu']\n",
      "          gender=None\n",
      "          age=None> gujarati-test\n",
      "33\n",
      "<Voice id=hindi\n",
      "          name=hindi\n",
      "          languages=[b'\\x05hi']\n",
      "          gender=male\n",
      "          age=None> hindi\n",
      "34\n",
      "<Voice id=croatian\n",
      "          name=croatian\n",
      "          languages=[b'\\x05hr']\n",
      "          gender=male\n",
      "          age=None> croatian\n",
      "35\n",
      "<Voice id=hungarian\n",
      "          name=hungarian\n",
      "          languages=[b'\\x05hu']\n",
      "          gender=male\n",
      "          age=None> hungarian\n",
      "36\n",
      "<Voice id=armenian\n",
      "          name=armenian\n",
      "          languages=[b'\\x05hy']\n",
      "          gender=male\n",
      "          age=None> armenian\n"
     ]
    },
    {
     "name": "stderr",
     "output_type": "stream",
     "text": [
      "aplay: pcm_write:2127: write error: Interrupted system call\n"
     ]
    },
    {
     "name": "stdout",
     "output_type": "stream",
     "text": [
      "37\n",
      "<Voice id=armenian-west\n",
      "          name=armenian-west\n",
      "          languages=[b'\\x05hy-west']\n",
      "          gender=male\n",
      "          age=None> armenian-west\n",
      "38\n",
      "<Voice id=interlingua\n",
      "          name=interlingua\n",
      "          languages=[b'\\x05ia']\n",
      "          gender=None\n",
      "          age=None> interlingua\n",
      "39\n",
      "<Voice id=indonesian\n",
      "          name=indonesian\n",
      "          languages=[b'\\x05id']\n",
      "          gender=male\n",
      "          age=None> indonesian\n",
      "40\n",
      "<Voice id=icelandic\n",
      "          name=icelandic\n",
      "          languages=[b'\\x05is']\n",
      "          gender=male\n",
      "          age=None> icelandic\n",
      "41\n",
      "<Voice id=italian\n",
      "          name=italian\n",
      "          languages=[b'\\x05it']\n",
      "          gender=male\n",
      "          age=None> italian\n",
      "42\n",
      "<Voice id=lojban\n",
      "          name=lojban\n",
      "          languages=[b'\\x05jbo']\n",
      "          gender=None\n",
      "          age=None> lojban\n",
      "43\n",
      "<Voice id=georgian\n",
      "          name=georgian\n",
      "          languages=[b'\\x05ka']\n",
      "          gender=None\n",
      "          age=None> georgian\n",
      "44\n",
      "<Voice id=kannada\n",
      "          name=kannada\n",
      "          languages=[b'\\x05kn']\n",
      "          gender=None\n",
      "          age=None> kannada\n",
      "45\n",
      "<Voice id=kurdish\n",
      "          name=kurdish\n",
      "          languages=[b'\\x05ku']\n",
      "          gender=male\n",
      "          age=None> kurdish\n",
      "46\n",
      "<Voice id=latin\n",
      "          name=latin\n",
      "          languages=[b'\\x05la']\n",
      "          gender=male\n",
      "          age=None> latin\n",
      "47\n",
      "<Voice id=lingua_franca_nova\n",
      "          name=lingua_franca_nova\n",
      "          languages=[b'\\x05lfn']\n",
      "          gender=male\n",
      "          age=None> lingua_franca_nova\n",
      "48\n",
      "<Voice id=lithuanian\n",
      "          name=lithuanian\n",
      "          languages=[b'\\x05lt']\n",
      "          gender=male\n",
      "          age=None> lithuanian\n",
      "49\n",
      "<Voice id=latvian\n",
      "          name=latvian\n",
      "          languages=[b'\\x05lv']\n",
      "          gender=male\n",
      "          age=None> latvian\n",
      "50\n",
      "<Voice id=macedonian\n",
      "          name=macedonian\n",
      "          languages=[b'\\x05mk']\n",
      "          gender=male\n",
      "          age=None> macedonian\n"
     ]
    },
    {
     "name": "stderr",
     "output_type": "stream",
     "text": [
      "aplay: pcm_write:2127: write error: Interrupted system call\n"
     ]
    },
    {
     "name": "stdout",
     "output_type": "stream",
     "text": [
      "51\n",
      "<Voice id=malayalam\n",
      "          name=malayalam\n",
      "          languages=[b'\\x05ml']\n",
      "          gender=male\n",
      "          age=None> malayalam\n",
      "52\n",
      "<Voice id=malay\n",
      "          name=malay\n",
      "          languages=[b'\\x05ms']\n",
      "          gender=male\n",
      "          age=None> malay\n",
      "53\n",
      "<Voice id=nepali\n",
      "          name=nepali\n",
      "          languages=[b'\\x05ne']\n",
      "          gender=male\n",
      "          age=None> nepali\n",
      "54\n",
      "<Voice id=dutch\n",
      "          name=dutch\n",
      "          languages=[b'\\x05nl']\n",
      "          gender=male\n",
      "          age=None> dutch\n",
      "55\n",
      "<Voice id=norwegian\n",
      "          name=norwegian\n",
      "          languages=[b'\\x05no']\n",
      "          gender=male\n",
      "          age=None> norwegian\n",
      "56\n",
      "<Voice id=punjabi\n",
      "          name=punjabi\n",
      "          languages=[b'\\x05pa']\n",
      "          gender=None\n",
      "          age=None> punjabi\n",
      "57\n",
      "<Voice id=polish\n",
      "          name=polish\n",
      "          languages=[b'\\x05pl']\n",
      "          gender=male\n",
      "          age=None> polish\n",
      "58\n",
      "<Voice id=brazil\n",
      "          name=brazil\n",
      "          languages=[b'\\x05pt-br']\n",
      "          gender=male\n",
      "          age=None> brazil\n",
      "59\n",
      "<Voice id=portugal\n",
      "          name=portugal\n",
      "          languages=[b'\\x05pt-pt']\n",
      "          gender=male\n",
      "          age=None> portugal\n"
     ]
    },
    {
     "name": "stderr",
     "output_type": "stream",
     "text": [
      "aplay: pcm_write:2127: write error: Interrupted system call\n"
     ]
    },
    {
     "name": "stdout",
     "output_type": "stream",
     "text": [
      "60\n",
      "<Voice id=romanian\n",
      "          name=romanian\n",
      "          languages=[b'\\x05ro']\n",
      "          gender=male\n",
      "          age=None> romanian\n"
     ]
    },
    {
     "name": "stderr",
     "output_type": "stream",
     "text": [
      "aplay: pcm_write:2127: write error: Interrupted system call\n",
      "Full dictionary is not installed for 'ru'\n"
     ]
    },
    {
     "name": "stdout",
     "output_type": "stream",
     "text": [
      "61\n",
      "<Voice id=russian\n",
      "          name=russian\n",
      "          languages=[b'\\x05ru']\n",
      "          gender=male\n",
      "          age=None> russian\n"
     ]
    },
    {
     "name": "stderr",
     "output_type": "stream",
     "text": [
      "aplay: pcm_write:2127: write error: Interrupted system call\n"
     ]
    },
    {
     "name": "stdout",
     "output_type": "stream",
     "text": [
      "62\n",
      "<Voice id=slovak\n",
      "          name=slovak\n",
      "          languages=[b'\\x05sk']\n",
      "          gender=male\n",
      "          age=None> slovak\n"
     ]
    },
    {
     "name": "stderr",
     "output_type": "stream",
     "text": [
      "aplay: pcm_write:2127: write error: Interrupted system call\n",
      "aplay: pcm_write:2127: write error: Interrupted system call\n"
     ]
    },
    {
     "name": "stdout",
     "output_type": "stream",
     "text": [
      "63\n",
      "<Voice id=albanian\n",
      "          name=albanian\n",
      "          languages=[b'\\x05sq']\n",
      "          gender=male\n",
      "          age=None> albanian\n",
      "64\n",
      "<Voice id=serbian\n",
      "          name=serbian\n",
      "          languages=[b'\\x05sr']\n",
      "          gender=male\n",
      "          age=None> serbian\n"
     ]
    },
    {
     "name": "stderr",
     "output_type": "stream",
     "text": [
      "aplay: pcm_write:2127: write error: Interrupted system call\n",
      "aplay: pcm_write:2127: write error: Interrupted system call\n"
     ]
    },
    {
     "name": "stdout",
     "output_type": "stream",
     "text": [
      "65\n",
      "<Voice id=swedish\n",
      "          name=swedish\n",
      "          languages=[b'\\x05sv']\n",
      "          gender=male\n",
      "          age=None> swedish\n",
      "66\n",
      "<Voice id=swahili-test\n",
      "          name=swahili-test\n",
      "          languages=[b'\\x05sw']\n",
      "          gender=male\n",
      "          age=None> swahili-test\n"
     ]
    },
    {
     "name": "stderr",
     "output_type": "stream",
     "text": [
      "aplay: pcm_write:2127: write error: Interrupted system call\n",
      "aplay: pcm_write:2127: write error: Interrupted system call\n"
     ]
    },
    {
     "name": "stdout",
     "output_type": "stream",
     "text": [
      "67\n",
      "<Voice id=tamil\n",
      "          name=tamil\n",
      "          languages=[b'\\x05ta']\n",
      "          gender=male\n",
      "          age=None> tamil\n",
      "68\n",
      "<Voice id=telugu-test\n",
      "          name=telugu-test\n",
      "          languages=[b'\\x05te']\n",
      "          gender=None\n",
      "          age=None> telugu-test\n"
     ]
    },
    {
     "name": "stderr",
     "output_type": "stream",
     "text": [
      "aplay: pcm_write:2127: write error: Interrupted system call\n",
      "aplay: pcm_write:2127: write error: Interrupted system call\n"
     ]
    },
    {
     "name": "stdout",
     "output_type": "stream",
     "text": [
      "69\n",
      "<Voice id=turkish\n",
      "          name=turkish\n",
      "          languages=[b'\\x05tr']\n",
      "          gender=male\n",
      "          age=None> turkish\n",
      "70\n",
      "<Voice id=vietnam\n",
      "          name=vietnam\n",
      "          languages=[b'\\x05vi']\n",
      "          gender=male\n",
      "          age=None> vietnam\n"
     ]
    },
    {
     "name": "stderr",
     "output_type": "stream",
     "text": [
      "aplay: pcm_write:2127: write error: Interrupted system call\n",
      "aplay: pcm_write:2127: write error: Interrupted system call\n"
     ]
    },
    {
     "name": "stdout",
     "output_type": "stream",
     "text": [
      "71\n",
      "<Voice id=vietnam_hue\n",
      "          name=vietnam_hue\n",
      "          languages=[b'\\x05vi-hue']\n",
      "          gender=male\n",
      "          age=None> vietnam_hue\n",
      "72\n",
      "<Voice id=vietnam_sgn\n",
      "          name=vietnam_sgn\n",
      "          languages=[b'\\x05vi-sgn']\n",
      "          gender=male\n",
      "          age=None> vietnam_sgn\n"
     ]
    },
    {
     "name": "stderr",
     "output_type": "stream",
     "text": [
      "aplay: pcm_write:2127: write error: Interrupted system call\n",
      "aplay: pcm_write:2127: write error: Interrupted system call\n",
      "Full dictionary is not installed for 'zhy'\n"
     ]
    },
    {
     "name": "stdout",
     "output_type": "stream",
     "text": [
      "73\n",
      "<Voice id=Mandarin\n",
      "          name=Mandarin\n",
      "          languages=[b'\\x05zh']\n",
      "          gender=male\n",
      "          age=None> Mandarin\n",
      "74\n",
      "<Voice id=cantonese\n",
      "          name=cantonese\n",
      "          languages=[b'\\x05zh-yue']\n",
      "          gender=male\n",
      "          age=None> cantonese\n",
      "75\n"
     ]
    },
    {
     "name": "stderr",
     "output_type": "stream",
     "text": [
      "aplay: pcm_write:2127: write error: Interrupted system call\n"
     ]
    }
   ],
   "source": [
    " import pyttsx3\n",
    "e = pyttsx3.init()\n",
    "v=e.getProperty('voices')\n",
    "e.setProperty('rate', 150)\n",
    "i=0\n",
    "for voice in v:\n",
    "    print(voice,voice.id)\n",
    "    e.setProperty('voice', voice.id)\n",
    "    e.say('Hello World')\n",
    "    e.runAndWait()\n",
    "    i=i+1\n",
    "    print(i)\n",
    "\n"
   ]
  },
  {
   "cell_type": "code",
   "execution_count": null,
   "id": "adaf2a6f-55db-41f4-aab6-2ae3e226f996",
   "metadata": {},
   "outputs": [],
   "source": [
    "!python detect.py --weights \"weights path\" --source 0\n"
   ]
  }
 ],
 "metadata": {
  "kernelspec": {
   "display_name": "Python 3 (ipykernel)",
   "language": "python",
   "name": "python3"
  },
  "language_info": {
   "codemirror_mode": {
    "name": "ipython",
    "version": 3
   },
   "file_extension": ".py",
   "mimetype": "text/x-python",
   "name": "python",
   "nbconvert_exporter": "python",
   "pygments_lexer": "ipython3",
   "version": "3.10.12"
  }
 },
 "nbformat": 4,
 "nbformat_minor": 5
}
